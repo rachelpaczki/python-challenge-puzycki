{
 "cells": [
  {
   "cell_type": "code",
   "execution_count": 37,
   "metadata": {},
   "outputs": [],
   "source": [
    "# Import data for analysis\n",
    "import os\n",
    "import csv\n",
    "\n",
    "pybank_csv = os.path.join(\"..\", \"Resources\", \"budget_data.csv\")\n",
    "output_file = os.path.join(\"..\",\"Analysis\", \"PyBank_output.txt\")"
   ]
  },
  {
   "cell_type": "code",
   "execution_count": 38,
   "metadata": {},
   "outputs": [],
   "source": [
    "# Start reader access to data in csv file\n",
    "\n",
    "with open(pybank_csv) as csvfile:\n",
    "    csv_reader = csv.reader(pybank_csv,delimiter=\",\")"
   ]
  },
  {
   "cell_type": "code",
   "execution_count": 39,
   "metadata": {},
   "outputs": [],
   "source": [
    "# Prepare data for usage \n",
    "import pandas as pd\n",
    "df = pd.read_csv(pybank_csv)\n",
    "\n",
    "date = []\n",
    "profit_losses = []\n",
    "profitchanges = []"
   ]
  },
  {
   "cell_type": "code",
   "execution_count": 40,
   "metadata": {},
   "outputs": [],
   "source": [
    "# Define dates, profit_losses, and profit changes \n",
    "with open(pybank_csv) as csvfile:\n",
    "    csv_reader = csv.reader(pybank_csv,delimiter=\",\")\n",
    "    Headers = next(csv_reader)\n",
    "\n",
    "    for row in csv_reader:\n",
    "        date.append([0])\n",
    "        profit_losses.append([1])\n"
   ]
  },
  {
   "cell_type": "code",
   "execution_count": 41,
   "metadata": {},
   "outputs": [],
   "source": [
    "# Count the months avaliable in the csv file\n",
    "totalmonths = len(date)"
   ]
  },
  {
   "cell_type": "code",
   "execution_count": 42,
   "metadata": {},
   "outputs": [
    {
     "ename": "TypeError",
     "evalue": "'int' object is not iterable",
     "output_type": "error",
     "traceback": [
      "\u001b[0;31m---------------------------------------------------------------------------\u001b[0m",
      "\u001b[0;31mTypeError\u001b[0m                                 Traceback (most recent call last)",
      "Cell \u001b[0;32mIn[42], line 4\u001b[0m\n\u001b[1;32m      1\u001b[0m \u001b[38;5;66;03m# Calculate the net total for profit/losses\u001b[39;00m\n\u001b[1;32m      2\u001b[0m totalprofitlosses \u001b[38;5;241m=\u001b[39m \u001b[38;5;241m0\u001b[39m\n\u001b[0;32m----> 4\u001b[0m \u001b[38;5;28;01mfor\u001b[39;00m i \u001b[38;5;129;01min\u001b[39;00m totalprofitlosses:\n\u001b[1;32m      5\u001b[0m     totalprofitlosses \u001b[38;5;241m=\u001b[39m i \u001b[38;5;241m+\u001b[39mtotalprofitlosses\n\u001b[1;32m      7\u001b[0m changeprofitlosses \u001b[38;5;241m=\u001b[39m [totalprofitlosses[i\u001b[38;5;241m+\u001b[39m\u001b[38;5;241m1\u001b[39m]\u001b[38;5;241m+\u001b[39mtotalprofitlosses[i] \u001b[38;5;28;01mfor\u001b[39;00m i \u001b[38;5;129;01min\u001b[39;00m \u001b[38;5;28mrange\u001b[39m(totalmonths)]\n",
      "\u001b[0;31mTypeError\u001b[0m: 'int' object is not iterable"
     ]
    }
   ],
   "source": [
    "# Calculate the net total for profit/losses\n",
    "totalprofitlosses = 0\n",
    "\n",
    "for i in totalprofitlosses:\n",
    "    totalprofitlosses = i +totalprofitlosses\n",
    "\n",
    "changeprofitlosses = [totalprofitlosses[i+1]+totalprofitlosses[i] for i in range(totalmonths)]"
   ]
  },
  {
   "cell_type": "code",
   "execution_count": null,
   "metadata": {},
   "outputs": [],
   "source": [
    "# Calculate the average change for total profit losses\n",
    "averagechange = average(changeprofitlosses)"
   ]
  },
  {
   "cell_type": "code",
   "execution_count": null,
   "metadata": {},
   "outputs": [],
   "source": [
    "# Calculate the greatest increase and decrease in profits\n",
    "greatestincrease = 0\n",
    "greatestdecrease = 0\n",
    "\n",
    "for i in range(len(date)-1):\n",
    "    if totalprofitlosses[i] > greatestincrease:\n",
    "        greatestincrease = totalprofitlosses[i]\n",
    "\n",
    "    if totalprofitlosses[i] < greatestdecrease:\n",
    "        greatestdecrease = totalprofitlosses[i]\n"
   ]
  },
  {
   "cell_type": "code",
   "execution_count": null,
   "metadata": {},
   "outputs": [
    {
     "ename": "SyntaxError",
     "evalue": "expected ':' (1338039059.py, line 15)",
     "output_type": "error",
     "traceback": [
      "\u001b[0;36m  Cell \u001b[0;32mIn[157], line 15\u001b[0;36m\u001b[0m\n\u001b[0;31m    with open(output_file,'w') as textfile\u001b[0m\n\u001b[0m                                          ^\u001b[0m\n\u001b[0;31mSyntaxError\u001b[0m\u001b[0;31m:\u001b[0m expected ':'\n"
     ]
    }
   ],
   "source": [
    "# Create Analysis output for printing\n",
    "analysisoutput = (f\"Financial Analysis\\n\",\n",
    "                  f\"#-----------------------------\",\n",
    "                  f\"Total Months: {totalmonths}\\n\",\n",
    "                  f\"Total: ${totalprofitlosses}\\n\",\n",
    "                  f\"Average Change: ${averagechange}\\n\",\n",
    "                  f\"Greatest Increase in Profits: ${greatestincrease}\\n\",\n",
    "                  f\"Greatest Decrease in Profits: ${greatestdecrease}\\n\"\n",
    ")\n",
    "\n",
    "# Print out analysis output\n",
    "print(analysisoutput)\n",
    "\n",
    "# Send data to text file in analysis\n",
    "with open(output_file,'w') as textfile:\n",
    "    textfile.write(analysisoutput)"
   ]
  }
 ],
 "metadata": {
  "kernelspec": {
   "display_name": "Python 3",
   "language": "python",
   "name": "python3"
  },
  "language_info": {
   "codemirror_mode": {
    "name": "ipython",
    "version": 3
   },
   "file_extension": ".py",
   "mimetype": "text/x-python",
   "name": "python",
   "nbconvert_exporter": "python",
   "pygments_lexer": "ipython3",
   "version": "3.11.5"
  }
 },
 "nbformat": 4,
 "nbformat_minor": 2
}
