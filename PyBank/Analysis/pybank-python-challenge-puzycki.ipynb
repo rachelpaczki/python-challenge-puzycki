{
 "cells": [
  {
   "cell_type": "code",
   "execution_count": 12,
   "metadata": {},
   "outputs": [],
   "source": [
    "# Import data for analysis\n",
    "import os\n",
    "import csv\n",
    "\n",
    "pybank_csv = os.path.join(\"..\", \"Resources\", \"budget_data.csv\")\n",
    "output_file = os.path.join(\"..\",\"Analysis\", \"PyBank_output.txt\")"
   ]
  },
  {
   "cell_type": "code",
   "execution_count": 13,
   "metadata": {},
   "outputs": [],
   "source": [
    "# Start reader access to data in csv file\n",
    "with open(pybank_csv) as csvfile:\n",
    "    csv_reader = csv.reader(pybank_csv,delimiter=\",\")"
   ]
  },
  {
   "cell_type": "code",
   "execution_count": 14,
   "metadata": {},
   "outputs": [],
   "source": [
    "# Prepare data for usage \n",
    "import pandas as pd\n",
    "df = pd.read_csv(pybank_csv)\n",
    "\n",
    "#Set variables\n",
    "totalmonths = 0\n",
    "total = 0\n",
    "profitlosses = []\n",
    "dates = []\n",
    "monthlychanges = []"
   ]
  },
  {
   "cell_type": "code",
   "execution_count": 15,
   "metadata": {},
   "outputs": [],
   "source": [
    "# Define dates, profit_losses, and profit changes \n",
    "with open(pybank_csv) as csvfile:\n",
    "    csv_reader = csv.reader(csvfile, delimiter = ',')\n",
    "    next(csv_reader)\n",
    "    \n",
    "    for row in csv_reader:\n",
    "        totalmonths += 1\n",
    "        total += int(row[1])\n",
    "        profitlosses.append(row[1])\n",
    "        dates.append(row[0])\n"
   ]
  },
  {
   "cell_type": "code",
   "execution_count": 16,
   "metadata": {},
   "outputs": [
    {
     "data": {
      "text/plain": [
       "86"
      ]
     },
     "execution_count": 16,
     "metadata": {},
     "output_type": "execute_result"
    }
   ],
   "source": [
    "# Count the months avaliable in the csv file\n",
    "totalmonths = len(dates)\n",
    "totalmonths"
   ]
  },
  {
   "cell_type": "code",
   "execution_count": 17,
   "metadata": {},
   "outputs": [],
   "source": [
    "# Calculate the net total for profit/losses\n",
    "firstprofitloss = int(profitlosses[0])\n",
    "\n",
    "# Set the loop\n",
    "for i in range(1, len(profitlosses)):\n",
    "    monthlychanges.append(int(profitlosses[i])-firstprofitloss)\n",
    "    firstprofitloss = int(profitlosses[i])\n",
    "    i += 1"
   ]
  },
  {
   "cell_type": "code",
   "execution_count": 18,
   "metadata": {},
   "outputs": [
    {
     "data": {
      "text/plain": [
       "-8311.105882352942"
      ]
     },
     "execution_count": 18,
     "metadata": {},
     "output_type": "execute_result"
    }
   ],
   "source": [
    "# Calculate the average change for total profit losses\n",
    "averagechange = sum(monthlychanges)/len(monthlychanges)\n",
    "averagechange"
   ]
  },
  {
   "cell_type": "code",
   "execution_count": 19,
   "metadata": {},
   "outputs": [
    {
     "data": {
      "text/plain": [
       "(1862002, -1825558)"
      ]
     },
     "execution_count": 19,
     "metadata": {},
     "output_type": "execute_result"
    }
   ],
   "source": [
    "# Calculate the greatest increase and decrease in profits\n",
    "greatestincrease = max(monthlychanges)\n",
    "greatestdecrease = min(monthlychanges)\n",
    "\n",
    "greatestincrease, greatestdecrease"
   ]
  },
  {
   "cell_type": "code",
   "execution_count": 20,
   "metadata": {},
   "outputs": [
    {
     "data": {
      "text/plain": [
       "('Jun-16', 'Dec-13')"
      ]
     },
     "execution_count": 20,
     "metadata": {},
     "output_type": "execute_result"
    }
   ],
   "source": [
    "#Find month index for the Max Increase and Max Decrease\n",
    "for i in range(len(monthlychanges)):\n",
    "    if monthlychanges[i] == greatestincrease:\n",
    "        maxindex = (i - 1)\n",
    "    elif monthlychanges[i] == greatestdecrease:\n",
    "        minindex = (i - 1)\n",
    "    else:\n",
    "        i += 1\n",
    "\n",
    "greatest_inc = dates[maxindex]\n",
    "greatest_dec = dates[minindex]\n",
    "\n",
    "greatest_inc, greatest_dec"
   ]
  },
  {
   "cell_type": "code",
   "execution_count": 21,
   "metadata": {},
   "outputs": [
    {
     "name": "stdout",
     "output_type": "stream",
     "text": [
      "('Financial Analysis\\n', '#-----------------------------', 'Total Months: 86\\n', 'Total: $22564198\\n', 'Average Change: $-8311.105882352942\\n', 'Greatest Increase in Profits: Jun-16 ($1862002)\\n', 'Greatest Decrease in Profits: Dec-13 ($-1825558)\\n')\n"
     ]
    }
   ],
   "source": [
    "# Create Analysis output for printing\n",
    "analysisoutput = (f\"Financial Analysis\\n\",\n",
    "                  f\"#-----------------------------\",\n",
    "                  f\"Total Months: {totalmonths}\\n\",\n",
    "                  f\"Total: ${total}\\n\",\n",
    "                  f\"Average Change: ${averagechange}\\n\",\n",
    "                  f\"Greatest Increase in Profits: {greatest_inc} (${greatestincrease})\\n\",\n",
    "                  f\"Greatest Decrease in Profits: {greatest_dec} (${greatestdecrease})\\n\"\n",
    ")\n",
    "\n",
    "# Print out analysis output\n",
    "print(analysisoutput)"
   ]
  },
  {
   "cell_type": "code",
   "execution_count": 22,
   "metadata": {},
   "outputs": [],
   "source": [
    "# Send data to text file in analysis\n",
    "with open(output_file,'w') as text:\n",
    "    text.write(f\"Financial Analysis\\n\")\n",
    "    text.write(f\"#-----------------------------\\n\")\n",
    "    text.write(f\"Total Months: {totalmonths}\\n\")\n",
    "    text.write(f\"Total: ${total}\\n\")\n",
    "    text.write(f\"Average Change: ${averagechange}\\n\")\n",
    "    text.write(f\"Greatest Increase in Profits: {greatest_inc} (${greatestincrease})\\n\")\n",
    "    text.write(f\"Greatest Decrease in Profits: {greatest_dec} (${greatestdecrease})\\n\")"
   ]
  },
  {
   "cell_type": "code",
   "execution_count": null,
   "metadata": {},
   "outputs": [],
   "source": []
  }
 ],
 "metadata": {
  "kernelspec": {
   "display_name": "Python 3",
   "language": "python",
   "name": "python3"
  },
  "language_info": {
   "codemirror_mode": {
    "name": "ipython",
    "version": 3
   },
   "file_extension": ".py",
   "mimetype": "text/x-python",
   "name": "python",
   "nbconvert_exporter": "python",
   "pygments_lexer": "ipython3",
   "version": "3.11.5"
  }
 },
 "nbformat": 4,
 "nbformat_minor": 2
}
