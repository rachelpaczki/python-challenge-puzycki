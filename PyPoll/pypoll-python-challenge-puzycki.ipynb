{
 "cells": [
  {
   "cell_type": "code",
   "execution_count": 63,
   "metadata": {},
   "outputs": [],
   "source": [
    "# Import data for analysis\n",
    "import os\n",
    "import csv\n",
    "\n",
    "candidates = []\n",
    "candidate_list = {}\n",
    "vote_count = 0\n",
    "\n",
    "pypoll_csv = os.path.join(\"/Users/rachelpuzycki/Desktop/NW Bootcamp/python-challenge-puzycki/PyPoll/Resources/election_data.csv\")\n",
    "output_file = os.path.join(\"/Users/rachelpuzycki/Desktop/NW Bootcamp/python-challenge-puzycki/PyPoll/Analysis/PyPoll_output.txt\")\n"
   ]
  },
  {
   "cell_type": "markdown",
   "metadata": {},
   "source": []
  },
  {
   "cell_type": "code",
   "execution_count": 64,
   "metadata": {},
   "outputs": [],
   "source": [
    "# Start reader access to data in csv file\n",
    "with open(pypoll_csv) as csvfile:\n",
    "    csv_reader = csv.reader(csvfile,delimiter=\",\")\n",
    "    Headers = next(csv_reader)\n",
    "\n",
    "    for row in csv_reader:\n",
    "        vote_count += 1\n",
    "        row_cand = row[2]\n",
    "        if row_cand in candidate_list.keys():\n",
    "            candidate_list[row_cand] +=1\n",
    "        else:\n",
    "            candidate_list[row_cand] = 1"
   ]
  },
  {
   "cell_type": "code",
   "execution_count": 67,
   "metadata": {},
   "outputs": [],
   "source": [
    "# Create Analysis output for printing\n",
    "winner = \"\"\n",
    "max_v = 0\n",
    "\n",
    "for candidate in candidate_list.keys():\n",
    "    votes = candidate_list[candidate]\n",
    "    perc = 100 * (votes / vote_count)\n",
    "    max_votes = f\"{candidate}: {round(perc, 3)}% ({votes})\\n\"\n",
    "    \n",
    "    #Winner\n",
    "    if votes > max_v:\n",
    "        winner = candidate\n",
    "        max_v = votes"
   ]
  },
  {
   "cell_type": "code",
   "execution_count": 68,
   "metadata": {},
   "outputs": [
    {
     "name": "stdout",
     "output_type": "stream",
     "text": [
      "Election Results\n",
      " #----------------------------\n",
      " Total Votes: 369711\n",
      " #----------------------------\n",
      " Winner: Diana DeGette\n",
      " #----------------------------\n",
      "\n"
     ]
    }
   ],
   "source": [
    "# Print out Analysis\n",
    "print(f\"Election Results\\n\",\n",
    "      f\"#----------------------------\\n\",\n",
    "      f\"Total Votes: {vote_count}\\n\",\n",
    "      f\"#----------------------------\\n\",\n",
    "      f\"Winner: {winner}\\n\",\n",
    "      f\"#----------------------------\\n\"\n",
    "      )\n"
   ]
  },
  {
   "cell_type": "code",
   "execution_count": 69,
   "metadata": {},
   "outputs": [],
   "source": [
    "# Send data to text file in analysis\n",
    "with open(output_file,'w') as text:\n",
    "    text.write(f\"Election Results\\n\")\n",
    "    text.write(f\"#----------------------------\\n\")\n",
    "    text.write(f\"Total Votes: {vote_count}\\n\")\n",
    "    text.write(f\"#----------------------------\\n\")\n",
    "    text.write(f\"Winner: {max_votes}\\n\")\n",
    "    text.write(f\"#----------------------------\\n\")"
   ]
  },
  {
   "cell_type": "code",
   "execution_count": null,
   "metadata": {},
   "outputs": [],
   "source": []
  }
 ],
 "metadata": {
  "kernelspec": {
   "display_name": "base",
   "language": "python",
   "name": "python3"
  },
  "language_info": {
   "codemirror_mode": {
    "name": "ipython",
    "version": 3
   },
   "file_extension": ".py",
   "mimetype": "text/x-python",
   "name": "python",
   "nbconvert_exporter": "python",
   "pygments_lexer": "ipython3",
   "version": "3.11.5"
  }
 },
 "nbformat": 4,
 "nbformat_minor": 2
}
