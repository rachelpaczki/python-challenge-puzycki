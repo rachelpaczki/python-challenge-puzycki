{
 "cells": [
  {
   "cell_type": "code",
   "execution_count": 1,
   "metadata": {},
   "outputs": [],
   "source": [
    "# Import data for analysis\n",
    "import os\n",
    "import csv\n",
    "\n",
    "pypoll_csv = os.path.join(\"..\", \"Resources\", \"election_data.csv\")\n",
    "output_file = os.path.join(\"..\",\"Analysis\", \"PyPoll_output.txt\")"
   ]
  },
  {
   "cell_type": "code",
   "execution_count": 2,
   "metadata": {},
   "outputs": [],
   "source": [
    "# Start reader access to data in csv file\n",
    "\n",
    "with open(pypoll_csv) as csvfile:\n",
    "    csv_reader = csv.reader(pypoll_csv,delimiter=\",\")"
   ]
  },
  {
   "cell_type": "code",
   "execution_count": 3,
   "metadata": {},
   "outputs": [],
   "source": [
    "# Prepare data for usage \n",
    "import pandas as pd\n",
    "df = pd.read_csv(pypoll_csv)\n",
    "\n",
    "ballotid = []\n",
    "county = []\n",
    "candidates = []\n",
    "\n",
    "with open(pypoll_csv) as csvfile:\n",
    "    csv_reader = csv.reader(pypoll_csv,delimiter=\",\")\n",
    "    Headers = next(csv_reader)\n",
    "\n",
    "    for row in csv_reader:\n",
    "        ballotid.append([0])\n",
    "        county.append([1])"
   ]
  },
  {
   "cell_type": "code",
   "execution_count": 4,
   "metadata": {},
   "outputs": [],
   "source": [
    "# Create a count of ballots\n",
    "totalballots = len(ballotid)"
   ]
  },
  {
   "cell_type": "code",
   "execution_count": 5,
   "metadata": {},
   "outputs": [],
   "source": [
    "# Calculate unique candidates based upon csv file\n",
    "for row in csv_reader:\n",
    "    totalballots += 1\n",
    "    \n",
    "    if row[2] not in candidates:\n",
    "        candidates.append(row[2])\n",
    "        totalballots.append(1)\n",
    "\n",
    "    else: \n",
    "        uniquecandidates = candidates.index(row[2])\n",
    "        totalballots[uniquecandidates] += 1"
   ]
  },
  {
   "cell_type": "code",
   "execution_count": 6,
   "metadata": {},
   "outputs": [
    {
     "ename": "SyntaxError",
     "evalue": "expected ':' (1106385828.py, line 3)",
     "output_type": "error",
     "traceback": [
      "\u001b[0;36m  Cell \u001b[0;32mIn[6], line 3\u001b[0;36m\u001b[0m\n\u001b[0;31m    if uniquecandidates\u001b[0m\n\u001b[0m                        ^\u001b[0m\n\u001b[0;31mSyntaxError\u001b[0m\u001b[0;31m:\u001b[0m expected ':'\n"
     ]
    }
   ],
   "source": [
    "# Calculate voterpercent for each unique candidate\n",
    "for row in csv_reader:\n",
    "    if uniquecandidates "
   ]
  },
  {
   "cell_type": "code",
   "execution_count": null,
   "metadata": {},
   "outputs": [],
   "source": [
    "# Calculate votercount for each unique candidate\n"
   ]
  },
  {
   "cell_type": "code",
   "execution_count": null,
   "metadata": {},
   "outputs": [],
   "source": [
    "# Calculate the overall winner of the election"
   ]
  },
  {
   "cell_type": "code",
   "execution_count": null,
   "metadata": {},
   "outputs": [
    {
     "ename": "SyntaxError",
     "evalue": "f-string: invalid syntax. Perhaps you forgot a comma? (2558540052.py, line 10)",
     "output_type": "error",
     "traceback": [
      "\u001b[0;36m  Cell \u001b[0;32mIn[41], line 10\u001b[0;36m\u001b[0m\n\u001b[0;31m    textfile.write(f\"{uniqueandidates:[i]}: {fixpercent{voterpercentage[i]}} ({votercount[i]})\\n\")\u001b[0m\n\u001b[0m    ^\u001b[0m\n\u001b[0;31mSyntaxError\u001b[0m\u001b[0;31m:\u001b[0m f-string: invalid syntax. Perhaps you forgot a comma?\n"
     ]
    }
   ],
   "source": [
    "# Create Analysis output for printing\n",
    "with open(output_file,'w') as textfile:\n",
    "    analysisoutput = (f\"Election Results\\n\",\n",
    "                  f\"#-----------------------------\",\n",
    "                  f\"Total Votes: {totalballots}\\n\",\n",
    "                  f\"#-----------------------------\",\n",
    ")\n",
    "\n",
    "for i in range(len(candidates)):\n",
    "    textfile.write(f\"{uniquecandidates:[i]}: {fixPercent{voterpercentage[i]}} ({votercount[i]})\\n\")\n",
    "                   \n",
    "    output_file.write(f\"#-----------------------------\",\n",
    "                      f\"Winner: {winner}\\n\",\n",
    "                      f\"#-----------------------------\",\n",
    "    )\n",
    "\n",
    "# Print out analysis output\n",
    "print(analysisoutput)\n",
    "\n",
    "# Send data to text file in analysis\n",
    "with open(output_file,'w') as textfile\n",
    "textfile.write(analysisoutput)"
   ]
  }
 ],
 "metadata": {
  "kernelspec": {
   "display_name": "base",
   "language": "python",
   "name": "python3"
  },
  "language_info": {
   "codemirror_mode": {
    "name": "ipython",
    "version": 3
   },
   "file_extension": ".py",
   "mimetype": "text/x-python",
   "name": "python",
   "nbconvert_exporter": "python",
   "pygments_lexer": "ipython3",
   "version": "3.11.5"
  }
 },
 "nbformat": 4,
 "nbformat_minor": 2
}
